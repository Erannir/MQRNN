{
 "cells": [
  {
   "cell_type": "code",
   "execution_count": 29,
   "metadata": {},
   "outputs": [
    {
     "name": "stdout",
     "output_type": "stream",
     "text": [
      "Populating the interactive namespace from numpy and matplotlib\n"
     ]
    }
   ],
   "source": [
    "%pylab inline\n",
    "plt.style.use(\"bmh\")\n",
    "import pandas as pd\n",
    "import numpy as np\n",
    "import pathlib\n",
    "import matplotlib as mpl\n",
    "import torch\n",
    "from torch import optim, device, cuda\n",
    "\n",
    "from training import Estimator, retrieve_data\n",
    "from Models import MQRNN"
   ]
  },
  {
   "cell_type": "markdown",
   "metadata": {},
   "source": [
    "## The model features - 9 calendar features"
   ]
  },
  {
   "cell_type": "markdown",
   "metadata": {},
   "source": [
    "The night / day cycle varies between summer and winter (see graph below that illustrates that).\n",
    "\n",
    "In the summer and winter, the daily cycle is changing.\n",
    "\n",
    "Therefore add just a daily cycle and yearly cycle features are not enough to identify whole annual cycles.\n",
    "\n",
    "For example, in the summer the consumption peak is in the afternoon and winter probably in the evening. Also, the difference between the peak and minimum of daily consumption is varying throughout the year.\n",
    "The following variables together try to predict the full yearly sub-cycles."
   ]
  },
  {
   "cell_type": "markdown",
   "metadata": {},
   "source": [
    "**Full calendar features ($x_h,x_f$):**\n",
    "1. yearly_cycle = np.sin(2 * np.pi * df.index.dayofyear / 366)\n",
    "\n",
    "2. weekly_cycle = np.sin(2 * np.pi * df.index.dayofweek / 7)\n",
    "\n",
    "3. daily_cycle = np.sin(2 * np.pi * df.index.hour / 24)\n",
    "\n",
    "4. weekend = (df.index.dayofweek < 5).astype(float)\n",
    "\n",
    "5. night = ((df.index.hour < 7) & (df.index.hour>21)).astype(float)\n",
    "\n",
    "6. winter = ((df.index.month < 4) & (df.index.month > 10)).astype(float)\n",
    "\n",
    "7. Holiday = ((df.index.is_year_end | df.index.is_year_start) | (( df.index.month==12) & (df.index.daysinmonth==25))).astype(float)\n",
    "\n",
    "8. winter_daily_cycle = daily_cycle*winter\n",
    "9. summer_daily_cycle = daily_cycle*(1-winter)"
   ]
  },
  {
   "cell_type": "markdown",
   "metadata": {},
   "source": [
    "\n",
    "`calendar_features = [\"yearly_cycle\", \"weekly_cycle\", \"daily_cycle\", \"weekend\", \"night\", \"winter\", \"Holiday\", \"summer_daily_cycle\", \"winter_daily_cycle\"]`\n"
   ]
  },
  {
   "cell_type": "markdown",
   "metadata": {},
   "source": [
    "It should be noted that adding all nine features helps the prediction accuracy mainly when using a small sample. However, when the models are heavily trained and include 100 samples (per househould), these features contribution is minor. However, we added them because they improve the model accuracy."
   ]
  },
  {
   "cell_type": "code",
   "execution_count": 30,
   "metadata": {},
   "outputs": [],
   "source": [
    "input_size = 1  # y\n",
    "embed_size = 9  # x\n",
    "hidden_size = 30  # for lstm: \"both with a state dimension of 30\"\n",
    "context_size = 8  # for c_t/c_a\n",
    "horizon = 24\n",
    "quantiles = [0.01, 0.25, 0.5, 0.75, 0.99]\n",
    "samples = 10\n",
    "batch_size = 32\n",
    "epochs = 1\n",
    "print_every = 50"
   ]
  },
  {
   "cell_type": "code",
   "execution_count": 31,
   "metadata": {},
   "outputs": [],
   "source": [
    "DATA_DIR = pathlib.Path(\"data\")\n",
    "MODEL_DIR = pathlib.Path(\"models\")\n",
    "GRAPH_DIR = pathlib.Path(\"graphs\")\n",
    "\n",
    "MODEL_DIR.mkdir(exist_ok=True)\n",
    "GRAPH_DIR.mkdir(exist_ok=True)"
   ]
  },
  {
   "cell_type": "markdown",
   "metadata": {},
   "source": [
    "### Model with all 9 calendar_features"
   ]
  },
  {
   "cell_type": "code",
   "execution_count": 32,
   "metadata": {},
   "outputs": [
    {
     "name": "stdout",
     "output_type": "stream",
     "text": [
      "2021-03-09 03:55:35.458044 Starting epoch 1 / 1\n",
      "2021-03-09 03:56:36.880409 t = 50, loss = 0.0704\n",
      "2021-03-09 03:57:30.339981 Got average loss of (0.06) last_lr = 0.01\n"
     ]
    }
   ],
   "source": [
    "train_loader, val_loader, test_loader = retrieve_data(samples=samples)\n",
    "model = MQRNN(input_size, embed_size, hidden_size, context_size, horizon, quantiles)\n",
    "\n",
    "optimizer = optim.Adam(model.parameters(), lr=0.01, betas=(0.9, 0.999), eps=1e-08, weight_decay=0, amsgrad=False)\n",
    "scheduler = optim.lr_scheduler.ReduceLROnPlateau(optimizer, mode='min',patience=4, factor=0.1, verbose=True)\n",
    "\n",
    "estimator = Estimator(batch_size=batch_size, quantiles=quantiles)\n",
    "estimator.train(model, train_loader, val_loader, optimizer, scheduler, epochs=epochs)"
   ]
  },
  {
   "cell_type": "code",
   "execution_count": 33,
   "metadata": {},
   "outputs": [
    {
     "name": "stdout",
     "output_type": "stream",
     "text": [
      "\n",
      " The test average loss: 0.0569\n"
     ]
    }
   ],
   "source": [
    "model.eval()\n",
    "loss = 0\n",
    "for t, (enc_data, dec_data) in enumerate(test_loader):\n",
    "  loss += estimator.calculate_loss(model, enc_data, dec_data).item()\n",
    "loss = loss / (t+1)\n",
    "print(\"\\n\",\"The test average loss:\", round(loss, 4))\n",
    "torch.save(model.state_dict(), pathlib.Path(\"models\").joinpath(\"epoch_{0}_loss_{1}\".format(30, round(loss, 4))))"
   ]
  },
  {
   "cell_type": "code",
   "execution_count": 34,
   "metadata": {},
   "outputs": [],
   "source": [
    "dataiter = iter(test_loader)\n",
    "enc_data, dec_data = dataiter.next()\n",
    "estimator.forcast(model, enc_data, dec_data, quantiles = quantiles, input_size = 1)"
   ]
  },
  {
   "cell_type": "code",
   "execution_count": 35,
   "metadata": {},
   "outputs": [
    {
     "ename": "TypeError",
     "evalue": "Object does not appear to be a 8-bit string path or a Python file-like object",
     "output_type": "error",
     "traceback": [
      "\u001b[1;31m---------------------------------------------------------------------------\u001b[0m",
      "\u001b[1;31mTypeError\u001b[0m                                 Traceback (most recent call last)",
      "\u001b[1;32m<ipython-input-35-a39941fb8edd>\u001b[0m in \u001b[0;36m<module>\u001b[1;34m\u001b[0m\n\u001b[0;32m      2\u001b[0m \u001b[1;32mimport\u001b[0m \u001b[0mmatplotlib\u001b[0m\u001b[1;33m.\u001b[0m\u001b[0mpyplot\u001b[0m \u001b[1;32mas\u001b[0m \u001b[0mplt\u001b[0m\u001b[1;33m\u001b[0m\u001b[1;33m\u001b[0m\u001b[0m\n\u001b[0;32m      3\u001b[0m \u001b[1;33m\u001b[0m\u001b[0m\n\u001b[1;32m----> 4\u001b[1;33m \u001b[0mimg1\u001b[0m\u001b[1;33m=\u001b[0m\u001b[0mmpimg\u001b[0m\u001b[1;33m.\u001b[0m\u001b[0mimread\u001b[0m\u001b[1;33m(\u001b[0m \u001b[0mpathlib\u001b[0m\u001b[1;33m.\u001b[0m\u001b[0mPath\u001b[0m\u001b[1;33m(\u001b[0m\u001b[0mGRAPH_DIR\u001b[0m\u001b[1;33m)\u001b[0m\u001b[1;33m.\u001b[0m\u001b[0mjoinpath\u001b[0m\u001b[1;33m(\u001b[0m\u001b[0mstr\u001b[0m\u001b[1;33m(\u001b[0m\u001b[1;36m1\u001b[0m\u001b[1;33m)\u001b[0m\u001b[1;33m+\u001b[0m\u001b[1;34m\".png\"\u001b[0m\u001b[1;33m)\u001b[0m\u001b[1;33m)\u001b[0m\u001b[1;33m\u001b[0m\u001b[1;33m\u001b[0m\u001b[0m\n\u001b[0m\u001b[0;32m      5\u001b[0m \u001b[0mimg2\u001b[0m\u001b[1;33m=\u001b[0m\u001b[0mmpimg\u001b[0m\u001b[1;33m.\u001b[0m\u001b[0mimread\u001b[0m\u001b[1;33m(\u001b[0m \u001b[0mpathlib\u001b[0m\u001b[1;33m.\u001b[0m\u001b[0mPath\u001b[0m\u001b[1;33m(\u001b[0m\u001b[0mGRAPH_DIR\u001b[0m\u001b[1;33m)\u001b[0m\u001b[1;33m.\u001b[0m\u001b[0mjoinpath\u001b[0m\u001b[1;33m(\u001b[0m\u001b[0mstr\u001b[0m\u001b[1;33m(\u001b[0m\u001b[1;36m2\u001b[0m\u001b[1;33m)\u001b[0m\u001b[1;33m+\u001b[0m\u001b[1;34m\".png\"\u001b[0m\u001b[1;33m)\u001b[0m\u001b[1;33m)\u001b[0m\u001b[1;33m\u001b[0m\u001b[1;33m\u001b[0m\u001b[0m\n\u001b[0;32m      6\u001b[0m \u001b[0mimg3\u001b[0m\u001b[1;33m=\u001b[0m\u001b[0mmpimg\u001b[0m\u001b[1;33m.\u001b[0m\u001b[0mimread\u001b[0m\u001b[1;33m(\u001b[0m \u001b[0mpathlib\u001b[0m\u001b[1;33m.\u001b[0m\u001b[0mPath\u001b[0m\u001b[1;33m(\u001b[0m\u001b[0mGRAPH_DIR\u001b[0m\u001b[1;33m)\u001b[0m\u001b[1;33m.\u001b[0m\u001b[0mjoinpath\u001b[0m\u001b[1;33m(\u001b[0m\u001b[0mstr\u001b[0m\u001b[1;33m(\u001b[0m\u001b[1;36m3\u001b[0m\u001b[1;33m)\u001b[0m\u001b[1;33m+\u001b[0m\u001b[1;34m\".png\"\u001b[0m\u001b[1;33m)\u001b[0m\u001b[1;33m)\u001b[0m\u001b[1;33m\u001b[0m\u001b[1;33m\u001b[0m\u001b[0m\n",
      "\u001b[1;32mC:\\ProgramData\\Anaconda3\\lib\\site-packages\\matplotlib\\image.py\u001b[0m in \u001b[0;36mimread\u001b[1;34m(fname, format)\u001b[0m\n\u001b[0;32m   1434\u001b[0m                 \u001b[1;32mreturn\u001b[0m \u001b[0mhandler\u001b[0m\u001b[1;33m(\u001b[0m\u001b[0mfd\u001b[0m\u001b[1;33m)\u001b[0m\u001b[1;33m\u001b[0m\u001b[1;33m\u001b[0m\u001b[0m\n\u001b[0;32m   1435\u001b[0m     \u001b[1;32melse\u001b[0m\u001b[1;33m:\u001b[0m\u001b[1;33m\u001b[0m\u001b[1;33m\u001b[0m\u001b[0m\n\u001b[1;32m-> 1436\u001b[1;33m         \u001b[1;32mreturn\u001b[0m \u001b[0mhandler\u001b[0m\u001b[1;33m(\u001b[0m\u001b[0mfname\u001b[0m\u001b[1;33m)\u001b[0m\u001b[1;33m\u001b[0m\u001b[1;33m\u001b[0m\u001b[0m\n\u001b[0m\u001b[0;32m   1437\u001b[0m \u001b[1;33m\u001b[0m\u001b[0m\n\u001b[0;32m   1438\u001b[0m \u001b[1;33m\u001b[0m\u001b[0m\n",
      "\u001b[1;32mC:\\ProgramData\\Anaconda3\\lib\\site-packages\\matplotlib\\image.py\u001b[0m in \u001b[0;36mread_png\u001b[1;34m(*args, **kwargs)\u001b[0m\n\u001b[0;32m   1388\u001b[0m     \u001b[1;32mdef\u001b[0m \u001b[0mread_png\u001b[0m\u001b[1;33m(\u001b[0m\u001b[1;33m*\u001b[0m\u001b[0margs\u001b[0m\u001b[1;33m,\u001b[0m \u001b[1;33m**\u001b[0m\u001b[0mkwargs\u001b[0m\u001b[1;33m)\u001b[0m\u001b[1;33m:\u001b[0m\u001b[1;33m\u001b[0m\u001b[1;33m\u001b[0m\u001b[0m\n\u001b[0;32m   1389\u001b[0m         \u001b[1;32mfrom\u001b[0m \u001b[0mmatplotlib\u001b[0m \u001b[1;32mimport\u001b[0m \u001b[0m_png\u001b[0m\u001b[1;33m\u001b[0m\u001b[1;33m\u001b[0m\u001b[0m\n\u001b[1;32m-> 1390\u001b[1;33m         \u001b[1;32mreturn\u001b[0m \u001b[0m_png\u001b[0m\u001b[1;33m.\u001b[0m\u001b[0mread_png\u001b[0m\u001b[1;33m(\u001b[0m\u001b[1;33m*\u001b[0m\u001b[0margs\u001b[0m\u001b[1;33m,\u001b[0m \u001b[1;33m**\u001b[0m\u001b[0mkwargs\u001b[0m\u001b[1;33m)\u001b[0m\u001b[1;33m\u001b[0m\u001b[1;33m\u001b[0m\u001b[0m\n\u001b[0m\u001b[0;32m   1391\u001b[0m \u001b[1;33m\u001b[0m\u001b[0m\n\u001b[0;32m   1392\u001b[0m     \u001b[0mhandlers\u001b[0m \u001b[1;33m=\u001b[0m \u001b[1;33m{\u001b[0m\u001b[1;34m'png'\u001b[0m\u001b[1;33m:\u001b[0m \u001b[0mread_png\u001b[0m\u001b[1;33m,\u001b[0m \u001b[1;33m}\u001b[0m\u001b[1;33m\u001b[0m\u001b[1;33m\u001b[0m\u001b[0m\n",
      "\u001b[1;31mTypeError\u001b[0m: Object does not appear to be a 8-bit string path or a Python file-like object"
     ]
    }
   ],
   "source": [
    "import matplotlib.image as mpimg \n",
    "import matplotlib.pyplot as plt \n",
    "\n",
    "img1=mpimg.imread( pathlib.Path(GRAPH_DIR).joinpath(str(1)+\".png\")) \n",
    "img2=mpimg.imread( pathlib.Path(GRAPH_DIR).joinpath(str(2)+\".png\")) \n",
    "img3=mpimg.imread( pathlib.Path(GRAPH_DIR).joinpath(str(3)+\".png\")) \n",
    "img4=mpimg.imread( pathlib.Path(GRAPH_DIR).joinpath(str(4)+\".png\")) \n",
    "\n",
    "fig, ((ax1, ax2), (ax3, ax4)) = plt.subplots(2, 2,figsize=(14,8))\n",
    "fig.tight_layout()\n",
    "ax1.imshow(img1)\n",
    "ax1.axis(\"off\")\n",
    "ax2.imshow(img2)\n",
    "ax2.axis(\"off\")\n",
    "ax3.imshow(img3)\n",
    "ax3.axis(\"off\")\n",
    "ax4.imshow(img4)\n",
    "ax4.axis(\"off\")"
   ]
  },
  {
   "cell_type": "markdown",
   "metadata": {},
   "source": [
    "## The average consumption across all 370 households - a graphical summary\n",
    "\n",
    "note: the average does not include zeros only"
   ]
  },
  {
   "cell_type": "code",
   "execution_count": null,
   "metadata": {},
   "outputs": [],
   "source": [
    "eldata = pd.read_csv('data\\LD2011_2014.txt',\n",
    "                 parse_dates=[0],\n",
    "                 delimiter=\";\",\n",
    "                 decimal=\",\")\n",
    "eldata.rename({\"Unnamed: 0\": \"timestamp\"}, axis=1, inplace=True)\n",
    "\n",
    "eldata=eldata.resample('H', on='timestamp').mean().reset_index()\n",
    "\n",
    "el_mean=eldata[eldata!=0].set_index(\"timestamp\").mean(axis=1)\n"
   ]
  },
  {
   "cell_type": "markdown",
   "metadata": {},
   "source": [
    "## An illustration of the winter-summer cycles\n",
    "\n",
    "\n",
    "\n",
    "\n",
    "The following graph shows the average consumption over several years.\n",
    "The colors are arbitrary, illustrating the summer - winter seasons.\n",
    "\n"
   ]
  },
  {
   "cell_type": "code",
   "execution_count": null,
   "metadata": {},
   "outputs": [],
   "source": [
    "plt.figure(figsize=(16,8))\n",
    "el_mean.loc[\"2011-1-1\":\"2011-4-19\"].plot()\n",
    "el_mean.loc[\"2011-4-20\":\"2011-11-19\"].plot()\n",
    "el_mean.loc[\"2011-11-20\":\"2012-4-19\"].plot()\n",
    "el_mean.loc[\"2012-4-20\":\"2012-11-19\"].plot()\n",
    "\n",
    "el_mean.loc[\"2012-11-20\":\"2013-4-19\"].plot()\n",
    "el_mean.loc[\"2013-4-20\":\"2013-11-19\"].plot()\n",
    "\n",
    "el_mean.loc[\"2013-11-20\":\"2014-4-19\"].plot()\n",
    "el_mean.loc[\"2014-4-20\":\"2014-11-19\"].plot()\n",
    "el_mean.loc[\"2014-11-20\":\"2015-1-31\"].plot()\n",
    "\n",
    "\n",
    "plt.tight_layout()"
   ]
  },
  {
   "cell_type": "markdown",
   "metadata": {},
   "source": [
    "The minimum daily consumption has moderate yearly cycles, and the maximum has high cycles."
   ]
  },
  {
   "cell_type": "code",
   "execution_count": null,
   "metadata": {},
   "outputs": [],
   "source": []
  }
 ],
 "metadata": {
  "kernelspec": {
   "display_name": "Python 3",
   "language": "python",
   "name": "python3"
  },
  "language_info": {
   "codemirror_mode": {
    "name": "ipython",
    "version": 3
   },
   "file_extension": ".py",
   "mimetype": "text/x-python",
   "name": "python",
   "nbconvert_exporter": "python",
   "pygments_lexer": "ipython3",
   "version": "3.7.6"
  }
 },
 "nbformat": 4,
 "nbformat_minor": 4
}
